{
 "cells": [
  {
   "cell_type": "code",
   "execution_count": 1,
   "metadata": {},
   "outputs": [
    {
     "data": {
      "text/html": [
       "<div>\n",
       "<style scoped>\n",
       "    .dataframe tbody tr th:only-of-type {\n",
       "        vertical-align: middle;\n",
       "    }\n",
       "\n",
       "    .dataframe tbody tr th {\n",
       "        vertical-align: top;\n",
       "    }\n",
       "\n",
       "    .dataframe thead th {\n",
       "        text-align: right;\n",
       "    }\n",
       "</style>\n",
       "<table border=\"1\" class=\"dataframe\">\n",
       "  <thead>\n",
       "    <tr style=\"text-align: right;\">\n",
       "      <th></th>\n",
       "      <th>Elevation</th>\n",
       "      <th>Aspect</th>\n",
       "      <th>Slope</th>\n",
       "      <th>Horizontal_Distance_To_Hydrology</th>\n",
       "      <th>Vertical_Distance_To_Hydrology</th>\n",
       "      <th>Horizontal_Distance_To_Roadways</th>\n",
       "      <th>Hillshade_9am</th>\n",
       "      <th>Hillshade_Noon</th>\n",
       "      <th>Hillshade_3pm</th>\n",
       "      <th>Horizontal_Distance_To_Fire_Points</th>\n",
       "      <th>...</th>\n",
       "      <th>Soil_Type32</th>\n",
       "      <th>Soil_Type33</th>\n",
       "      <th>Soil_Type34</th>\n",
       "      <th>Soil_Type35</th>\n",
       "      <th>Soil_Type36</th>\n",
       "      <th>Soil_Type37</th>\n",
       "      <th>Soil_Type38</th>\n",
       "      <th>Soil_Type39</th>\n",
       "      <th>Soil_Type40</th>\n",
       "      <th>Cover_Type</th>\n",
       "    </tr>\n",
       "  </thead>\n",
       "  <tbody>\n",
       "    <tr>\n",
       "      <th>42446</th>\n",
       "      <td>2959</td>\n",
       "      <td>61</td>\n",
       "      <td>16</td>\n",
       "      <td>85</td>\n",
       "      <td>10</td>\n",
       "      <td>5245</td>\n",
       "      <td>231</td>\n",
       "      <td>206</td>\n",
       "      <td>103</td>\n",
       "      <td>2663</td>\n",
       "      <td>...</td>\n",
       "      <td>0</td>\n",
       "      <td>0</td>\n",
       "      <td>0</td>\n",
       "      <td>0</td>\n",
       "      <td>0</td>\n",
       "      <td>0</td>\n",
       "      <td>0</td>\n",
       "      <td>0</td>\n",
       "      <td>0</td>\n",
       "      <td>1</td>\n",
       "    </tr>\n",
       "    <tr>\n",
       "      <th>149421</th>\n",
       "      <td>3100</td>\n",
       "      <td>38</td>\n",
       "      <td>15</td>\n",
       "      <td>30</td>\n",
       "      <td>-2</td>\n",
       "      <td>4202</td>\n",
       "      <td>218</td>\n",
       "      <td>205</td>\n",
       "      <td>118</td>\n",
       "      <td>2980</td>\n",
       "      <td>...</td>\n",
       "      <td>0</td>\n",
       "      <td>0</td>\n",
       "      <td>0</td>\n",
       "      <td>0</td>\n",
       "      <td>0</td>\n",
       "      <td>0</td>\n",
       "      <td>0</td>\n",
       "      <td>0</td>\n",
       "      <td>0</td>\n",
       "      <td>1</td>\n",
       "    </tr>\n",
       "    <tr>\n",
       "      <th>395891</th>\n",
       "      <td>3179</td>\n",
       "      <td>89</td>\n",
       "      <td>14</td>\n",
       "      <td>360</td>\n",
       "      <td>63</td>\n",
       "      <td>2293</td>\n",
       "      <td>240</td>\n",
       "      <td>217</td>\n",
       "      <td>104</td>\n",
       "      <td>2889</td>\n",
       "      <td>...</td>\n",
       "      <td>0</td>\n",
       "      <td>0</td>\n",
       "      <td>0</td>\n",
       "      <td>0</td>\n",
       "      <td>0</td>\n",
       "      <td>0</td>\n",
       "      <td>0</td>\n",
       "      <td>0</td>\n",
       "      <td>0</td>\n",
       "      <td>1</td>\n",
       "    </tr>\n",
       "    <tr>\n",
       "      <th>25419</th>\n",
       "      <td>2847</td>\n",
       "      <td>41</td>\n",
       "      <td>13</td>\n",
       "      <td>524</td>\n",
       "      <td>59</td>\n",
       "      <td>3376</td>\n",
       "      <td>221</td>\n",
       "      <td>210</td>\n",
       "      <td>122</td>\n",
       "      <td>6295</td>\n",
       "      <td>...</td>\n",
       "      <td>0</td>\n",
       "      <td>0</td>\n",
       "      <td>0</td>\n",
       "      <td>0</td>\n",
       "      <td>0</td>\n",
       "      <td>0</td>\n",
       "      <td>0</td>\n",
       "      <td>0</td>\n",
       "      <td>0</td>\n",
       "      <td>2</td>\n",
       "    </tr>\n",
       "    <tr>\n",
       "      <th>157437</th>\n",
       "      <td>2752</td>\n",
       "      <td>9</td>\n",
       "      <td>15</td>\n",
       "      <td>127</td>\n",
       "      <td>3</td>\n",
       "      <td>1176</td>\n",
       "      <td>202</td>\n",
       "      <td>210</td>\n",
       "      <td>142</td>\n",
       "      <td>2311</td>\n",
       "      <td>...</td>\n",
       "      <td>0</td>\n",
       "      <td>0</td>\n",
       "      <td>0</td>\n",
       "      <td>0</td>\n",
       "      <td>0</td>\n",
       "      <td>0</td>\n",
       "      <td>0</td>\n",
       "      <td>0</td>\n",
       "      <td>0</td>\n",
       "      <td>2</td>\n",
       "    </tr>\n",
       "    <tr>\n",
       "      <th>...</th>\n",
       "      <td>...</td>\n",
       "      <td>...</td>\n",
       "      <td>...</td>\n",
       "      <td>...</td>\n",
       "      <td>...</td>\n",
       "      <td>...</td>\n",
       "      <td>...</td>\n",
       "      <td>...</td>\n",
       "      <td>...</td>\n",
       "      <td>...</td>\n",
       "      <td>...</td>\n",
       "      <td>...</td>\n",
       "      <td>...</td>\n",
       "      <td>...</td>\n",
       "      <td>...</td>\n",
       "      <td>...</td>\n",
       "      <td>...</td>\n",
       "      <td>...</td>\n",
       "      <td>...</td>\n",
       "      <td>...</td>\n",
       "      <td>...</td>\n",
       "    </tr>\n",
       "    <tr>\n",
       "      <th>177015</th>\n",
       "      <td>3120</td>\n",
       "      <td>77</td>\n",
       "      <td>3</td>\n",
       "      <td>361</td>\n",
       "      <td>34</td>\n",
       "      <td>3571</td>\n",
       "      <td>224</td>\n",
       "      <td>233</td>\n",
       "      <td>145</td>\n",
       "      <td>1034</td>\n",
       "      <td>...</td>\n",
       "      <td>0</td>\n",
       "      <td>0</td>\n",
       "      <td>0</td>\n",
       "      <td>0</td>\n",
       "      <td>0</td>\n",
       "      <td>0</td>\n",
       "      <td>0</td>\n",
       "      <td>0</td>\n",
       "      <td>0</td>\n",
       "      <td>1</td>\n",
       "    </tr>\n",
       "    <tr>\n",
       "      <th>475353</th>\n",
       "      <td>2997</td>\n",
       "      <td>205</td>\n",
       "      <td>29</td>\n",
       "      <td>361</td>\n",
       "      <td>157</td>\n",
       "      <td>1018</td>\n",
       "      <td>190</td>\n",
       "      <td>251</td>\n",
       "      <td>180</td>\n",
       "      <td>424</td>\n",
       "      <td>...</td>\n",
       "      <td>0</td>\n",
       "      <td>0</td>\n",
       "      <td>0</td>\n",
       "      <td>0</td>\n",
       "      <td>0</td>\n",
       "      <td>0</td>\n",
       "      <td>0</td>\n",
       "      <td>0</td>\n",
       "      <td>0</td>\n",
       "      <td>2</td>\n",
       "    </tr>\n",
       "    <tr>\n",
       "      <th>5197</th>\n",
       "      <td>3275</td>\n",
       "      <td>61</td>\n",
       "      <td>7</td>\n",
       "      <td>30</td>\n",
       "      <td>0</td>\n",
       "      <td>3814</td>\n",
       "      <td>226</td>\n",
       "      <td>225</td>\n",
       "      <td>133</td>\n",
       "      <td>3774</td>\n",
       "      <td>...</td>\n",
       "      <td>0</td>\n",
       "      <td>0</td>\n",
       "      <td>0</td>\n",
       "      <td>0</td>\n",
       "      <td>0</td>\n",
       "      <td>0</td>\n",
       "      <td>1</td>\n",
       "      <td>0</td>\n",
       "      <td>0</td>\n",
       "      <td>7</td>\n",
       "    </tr>\n",
       "    <tr>\n",
       "      <th>521900</th>\n",
       "      <td>3161</td>\n",
       "      <td>302</td>\n",
       "      <td>16</td>\n",
       "      <td>309</td>\n",
       "      <td>85</td>\n",
       "      <td>2980</td>\n",
       "      <td>175</td>\n",
       "      <td>232</td>\n",
       "      <td>196</td>\n",
       "      <td>1184</td>\n",
       "      <td>...</td>\n",
       "      <td>1</td>\n",
       "      <td>0</td>\n",
       "      <td>0</td>\n",
       "      <td>0</td>\n",
       "      <td>0</td>\n",
       "      <td>0</td>\n",
       "      <td>0</td>\n",
       "      <td>0</td>\n",
       "      <td>0</td>\n",
       "      <td>1</td>\n",
       "    </tr>\n",
       "    <tr>\n",
       "      <th>66352</th>\n",
       "      <td>2807</td>\n",
       "      <td>315</td>\n",
       "      <td>2</td>\n",
       "      <td>0</td>\n",
       "      <td>0</td>\n",
       "      <td>2230</td>\n",
       "      <td>214</td>\n",
       "      <td>237</td>\n",
       "      <td>161</td>\n",
       "      <td>2543</td>\n",
       "      <td>...</td>\n",
       "      <td>0</td>\n",
       "      <td>0</td>\n",
       "      <td>0</td>\n",
       "      <td>0</td>\n",
       "      <td>0</td>\n",
       "      <td>0</td>\n",
       "      <td>0</td>\n",
       "      <td>0</td>\n",
       "      <td>0</td>\n",
       "      <td>2</td>\n",
       "    </tr>\n",
       "  </tbody>\n",
       "</table>\n",
       "<p>25000 rows × 55 columns</p>\n",
       "</div>"
      ],
      "text/plain": [
       "        Elevation  Aspect  Slope  Horizontal_Distance_To_Hydrology  \\\n",
       "42446        2959      61     16                                85   \n",
       "149421       3100      38     15                                30   \n",
       "395891       3179      89     14                               360   \n",
       "25419        2847      41     13                               524   \n",
       "157437       2752       9     15                               127   \n",
       "...           ...     ...    ...                               ...   \n",
       "177015       3120      77      3                               361   \n",
       "475353       2997     205     29                               361   \n",
       "5197         3275      61      7                                30   \n",
       "521900       3161     302     16                               309   \n",
       "66352        2807     315      2                                 0   \n",
       "\n",
       "        Vertical_Distance_To_Hydrology  Horizontal_Distance_To_Roadways  \\\n",
       "42446                               10                             5245   \n",
       "149421                              -2                             4202   \n",
       "395891                              63                             2293   \n",
       "25419                               59                             3376   \n",
       "157437                               3                             1176   \n",
       "...                                ...                              ...   \n",
       "177015                              34                             3571   \n",
       "475353                             157                             1018   \n",
       "5197                                 0                             3814   \n",
       "521900                              85                             2980   \n",
       "66352                                0                             2230   \n",
       "\n",
       "        Hillshade_9am  Hillshade_Noon  Hillshade_3pm  \\\n",
       "42446             231             206            103   \n",
       "149421            218             205            118   \n",
       "395891            240             217            104   \n",
       "25419             221             210            122   \n",
       "157437            202             210            142   \n",
       "...               ...             ...            ...   \n",
       "177015            224             233            145   \n",
       "475353            190             251            180   \n",
       "5197              226             225            133   \n",
       "521900            175             232            196   \n",
       "66352             214             237            161   \n",
       "\n",
       "        Horizontal_Distance_To_Fire_Points  ...  Soil_Type32  Soil_Type33  \\\n",
       "42446                                 2663  ...            0            0   \n",
       "149421                                2980  ...            0            0   \n",
       "395891                                2889  ...            0            0   \n",
       "25419                                 6295  ...            0            0   \n",
       "157437                                2311  ...            0            0   \n",
       "...                                    ...  ...          ...          ...   \n",
       "177015                                1034  ...            0            0   \n",
       "475353                                 424  ...            0            0   \n",
       "5197                                  3774  ...            0            0   \n",
       "521900                                1184  ...            1            0   \n",
       "66352                                 2543  ...            0            0   \n",
       "\n",
       "        Soil_Type34  Soil_Type35  Soil_Type36  Soil_Type37  Soil_Type38  \\\n",
       "42446             0            0            0            0            0   \n",
       "149421            0            0            0            0            0   \n",
       "395891            0            0            0            0            0   \n",
       "25419             0            0            0            0            0   \n",
       "157437            0            0            0            0            0   \n",
       "...             ...          ...          ...          ...          ...   \n",
       "177015            0            0            0            0            0   \n",
       "475353            0            0            0            0            0   \n",
       "5197              0            0            0            0            1   \n",
       "521900            0            0            0            0            0   \n",
       "66352             0            0            0            0            0   \n",
       "\n",
       "        Soil_Type39  Soil_Type40  Cover_Type  \n",
       "42446             0            0           1  \n",
       "149421            0            0           1  \n",
       "395891            0            0           1  \n",
       "25419             0            0           2  \n",
       "157437            0            0           2  \n",
       "...             ...          ...         ...  \n",
       "177015            0            0           1  \n",
       "475353            0            0           2  \n",
       "5197              0            0           7  \n",
       "521900            0            0           1  \n",
       "66352             0            0           2  \n",
       "\n",
       "[25000 rows x 55 columns]"
      ]
     },
     "execution_count": 1,
     "metadata": {},
     "output_type": "execute_result"
    }
   ],
   "source": [
    "import numpy as np\n",
    "import pandas as pd\n",
    "\n",
    "df = pd.read_csv('forest_cover.csv')\n",
    "df.head()\n",
    "df = df.sample(25000)\n",
    "df"
   ]
  },
  {
   "cell_type": "code",
   "execution_count": 2,
   "metadata": {},
   "outputs": [],
   "source": [
    "from sklearn.model_selection import train_test_split\n",
    "\n",
    "test_df_y = df[\"Cover_Type\"]\n",
    "del df[\"Cover_Type\"]\n",
    "test_df_x = df\n",
    "\n",
    "Y_values = test_df_y.values\n",
    "X_values = test_df_x.values\n",
    "\n",
    "X_train, X_test, y_train, y_test = train_test_split(X_values, Y_values, test_size=0.25)\n",
    "\n",
    "\n",
    "\n"
   ]
  },
  {
   "cell_type": "code",
   "execution_count": 11,
   "metadata": {},
   "outputs": [
    {
     "data": {
      "text/plain": [
       "LogisticRegression(C=1e-09, max_iter=10000, solver='liblinear')"
      ]
     },
     "execution_count": 11,
     "metadata": {},
     "output_type": "execute_result"
    }
   ],
   "source": [
    "from sklearn.linear_model import LogisticRegression\n",
    "\n",
    "logisticRegr = LogisticRegression(C=0.000000001,solver='liblinear',max_iter=1000)\n",
    "logisticRegr.fit(X_train, y_train)"
   ]
  },
  {
   "cell_type": "code",
   "execution_count": 4,
   "metadata": {},
   "outputs": [
    {
     "data": {
      "text/plain": [
       "RandomForestClassifier(n_estimators=1000, random_state=42)"
      ]
     },
     "execution_count": 4,
     "metadata": {},
     "output_type": "execute_result"
    }
   ],
   "source": [
    "from sklearn.ensemble import RandomForestClassifier\n",
    "\n",
    "rand_forest = RandomForestClassifier(n_estimators=1000, random_state=42)\n",
    "rand_forest.fit(X_train, y_train)"
   ]
  },
  {
   "cell_type": "code",
   "execution_count": 5,
   "metadata": {},
   "outputs": [
    {
     "data": {
      "text/plain": [
       "DecisionTreeClassifier()"
      ]
     },
     "execution_count": 5,
     "metadata": {},
     "output_type": "execute_result"
    }
   ],
   "source": [
    "from sklearn.tree import DecisionTreeClassifier\n",
    "\n",
    "dec_tree = DecisionTreeClassifier()\n",
    "dec_tree.fit(X_train, y_train)"
   ]
  },
  {
   "cell_type": "code",
   "execution_count": 8,
   "metadata": {},
   "outputs": [
    {
     "data": {
      "image/png": "[encoded data removed]",
      "text/plain": [
       "<Figure size 432x288 with 1 Axes>"
      ]
     },
     "metadata": {
      "needs_background": "light"
     },
     "output_type": "display_data"
    }
   ],
   "source": [
    "from sklearn import tree\n",
    "\n",
    "fig = plt.figure(figsize=(25,20))\n",
    "rand_forest_estimators = rand_forest.estimators_\n",
    "tree.plot_tree(rand_forest_estimators[0],\n",
    "               filled = True);\n",
    "\n"
   ]
  },
  {
   "cell_type": "markdown",
   "metadata": {},
   "source": [
    "Gini is a measure of how accurate the model could be if it randomly guessed the class of a sample, based on the distribution of classes in the node. If the gini is higher, that means there is less certainty about the conclusions that can be drawn because there is more uncertainty in how the samples are divided. Gini values will always get smaller as we move down the tree. Similarly, samples refers to the number of samples observed in the node, which will also decrease as you go down the tree since the observations are being divided into classes at each step. The value just refers to the class distribution of the samples in the node. The conditions refers to the other features present that could help determine future classifications."
   ]
  },
  {
   "cell_type": "code",
   "execution_count": 14,
   "metadata": {},
   "outputs": [
    {
     "data": {
      "text/plain": [
       "0.6088"
      ]
     },
     "execution_count": 14,
     "metadata": {},
     "output_type": "execute_result"
    }
   ],
   "source": [
    "from sklearn.metrics import accuracy_score\n",
    "\n",
    "lr_predictions = logisticRegr.predict(X_test)\n",
    "\n",
    "accuracy_score(y_test, lr_predictions)"
   ]
  },
  {
   "cell_type": "code",
   "execution_count": 15,
   "metadata": {},
   "outputs": [
    {
     "data": {
      "text/plain": [
       "0.84464"
      ]
     },
     "execution_count": 15,
     "metadata": {},
     "output_type": "execute_result"
    }
   ],
   "source": [
    "rf_predictions = rand_forest.predict(X_test)\n",
    "\n",
    "accuracy_score(y_test, rf_predictions)"
   ]
  },
  {
   "cell_type": "code",
   "execution_count": 16,
   "metadata": {},
   "outputs": [
    {
     "data": {
      "text/plain": [
       "0.7688"
      ]
     },
     "execution_count": 16,
     "metadata": {},
     "output_type": "execute_result"
    }
   ],
   "source": [
    "dt_predictions = dec_tree.predict(X_test)\n",
    "\n",
    "accuracy_score(y_test, dt_predictions)"
   ]
  },
  {
   "cell_type": "code",
   "execution_count": 17,
   "metadata": {},
   "outputs": [
    {
     "name": "stdout",
     "output_type": "stream",
     "text": [
      "[[1886  361    0    0    1    0   14]\n",
      " [ 279 2748   25    0    5   14    3]\n",
      " [   0   17  315    3    1   21    0]\n",
      " [   0    0    4   16    0    1    0]\n",
      " [   0   72    0    0   36    0    0]\n",
      " [   0   36   50    1    0   83    0]\n",
      " [  61    2    0    0    0    0  195]]\n"
     ]
    }
   ],
   "source": [
    "cm = metrics.confusion_matrix(y_test, rf_predictions)\n",
    "print(cm)"
   ]
  },
  {
   "cell_type": "markdown",
   "metadata": {},
   "source": [
    "Due to the high number of features, Random Forest is more accurate because decisions are made based on a subset of features, and thus the permutations of feature combinations create less ambiguity in the model's predictive ability"
   ]
  }
 ],
 "metadata": {
  "kernelspec": {
   "display_name": "Python 3",
   "language": "python",
   "name": "python3"
  },
  "language_info": {
   "codemirror_mode": {
    "name": "ipython",
    "version": 3
   },
   "file_extension": ".py",
   "mimetype": "text/x-python",
   "name": "python",
   "nbconvert_exporter": "python",
   "pygments_lexer": "ipython3",
   "version": "3.8.5"
  }
 },
 "nbformat": 4,
 "nbformat_minor": 4
}
